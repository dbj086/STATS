{
  "nbformat": 4,
  "nbformat_minor": 0,
  "metadata": {
    "colab": {
      "provenance": [],
      "authorship_tag": "ABX9TyNs8aQD51rxrLZlaCJRzamS",
      "include_colab_link": true
    },
    "kernelspec": {
      "name": "python3",
      "display_name": "Python 3"
    },
    "language_info": {
      "name": "python"
    }
  },
  "cells": [
    {
      "cell_type": "markdown",
      "metadata": {
        "id": "view-in-github",
        "colab_type": "text"
      },
      "source": [
        "<a href=\"https://colab.research.google.com/github/dbj086/STATS/blob/main/Decision_Tree.ipynb\" target=\"_parent\"><img src=\"https://colab.research.google.com/assets/colab-badge.svg\" alt=\"Open In Colab\"/></a>"
      ]
    },
    {
      "cell_type": "markdown",
      "source": [
        "##THEORY\n",
        "\n",
        "##Q1) What is a Decision Tree, and how does it work\t?\n",
        "\n",
        "Ans:A **Decision Tree** is a supervised machine learning algorithm used for classification and regression tasks. It models decisions and their possible consequences as a tree-like structure of nodes.\n",
        "\n",
        "---\n",
        "\n",
        "### How it works:\n",
        "\n",
        "1. **Root Node**: The tree starts with all data at the root.\n",
        "2. **Splitting**: The algorithm chooses the best feature and threshold to split the data into subsets that are more \"pure\" or homogeneous.\n",
        "3. **Decision Nodes**: Internal nodes where data is split based on feature conditions.\n",
        "4. **Leaf Nodes**: Terminal nodes that provide the final output (class label or regression value).\n",
        "5. **Recursive Process**: Splitting continues recursively on each subset until stopping criteria are met (e.g., max depth, minimum samples).\n",
        "\n",
        "---\n",
        "\n",
        "### Intuition:\n",
        "\n",
        "* At each node, the tree asks a question like \"Is feature X > value Y?\"\n",
        "* Depending on the answer, data flows down one branch or another.\n",
        "* This repeats until it reaches a leaf, where a prediction is made.\n",
        "\n",
        "---\n",
        "\n",
        "### Advantages:\n",
        "\n",
        "* Easy to interpret and visualize.\n",
        "* Handles both numerical and categorical data.\n",
        "* Requires little data preprocessing.\n",
        "\n",
        "---\n",
        "\n",
        "##Q2)What are impurity measures in Decision Trees ?\n",
        "\n",
        "Ans:**Impurity measures** in decision trees quantify how mixed or \"impure\" a set of samples is at a node. They help decide the best splits by measuring how well a split separates the classes. Lower impurity means more homogeneous nodes.\n",
        "\n",
        "---\n",
        "\n",
        "### Common impurity measures:\n",
        "\n",
        "1. **Gini Impurity**\n",
        "   Measures the probability of misclassifying a randomly chosen sample if labeled according to the class distribution in the node.\n",
        "   Formula for node $t$ with classes $1 \\dots K$:\n",
        "\n",
        "   $$\n",
        "   Gini(t) = 1 - \\sum_{i=1}^{K} p_i^2\n",
        "   $$\n",
        "\n",
        "   where $p_i$ is the proportion of class $i$ samples in node $t$.\n",
        "\n",
        "2. **Entropy (Information Gain)**\n",
        "   Measures the disorder or uncertainty in the node. Lower entropy means less impurity.\n",
        "\n",
        "   $$\n",
        "   Entropy(t) = -\\sum_{i=1}^K p_i \\log_2(p_i)\n",
        "   $$\n",
        "\n",
        "   Used to calculate **information gain** when splitting.\n",
        "\n",
        "3. **Classification Error**\n",
        "   Measures the fraction of misclassified samples at the node. Less commonly used because it's less sensitive.\n",
        "\n",
        "   $$\n",
        "   Error(t) = 1 - \\max_i(p_i)\n",
        "   $$\n",
        "\n",
        "---\n",
        "\n",
        "### Role in decision trees:\n",
        "\n",
        "* At each split, the algorithm selects the feature and threshold that **reduce impurity the most** (maximize purity).\n",
        "* This guides the tree to create nodes that are as pure as possible (mostly one class).\n",
        "\n",
        "---\n",
        "\n",
        "##Q3)What is the mathematical formula for Gini Impurity ?\n",
        "\n",
        "Ans:The mathematical formula for **Gini Impurity** at a node $t$ is:\n",
        "\n",
        "$$\n",
        "\\text{Gini}(t) = 1 - \\sum_{i=1}^{K} p_i^2\n",
        "$$\n",
        "\n",
        "where:\n",
        "\n",
        "* $K$ = number of classes\n",
        "* $p_i$ = proportion of samples belonging to class $i$ in node $t$\n",
        "\n",
        "---\n",
        "\n",
        "**Interpretation:**\n",
        "\n",
        "* If all samples belong to one class, Gini impurity = 0 (pure node).\n",
        "* If classes are evenly distributed, Gini impurity approaches its maximum (more impurity).\n",
        "\n",
        "\n",
        "##Q4) What is the mathematical formula for Entropy\t ?\n",
        "\n",
        "Ans:The mathematical formula for **entropy** depends on the context, but the most common one is **Shannon entropy** in information theory. It measures the uncertainty or randomness of a discrete probability distribution.\n",
        "\n",
        "For a discrete random variable $X$ with possible outcomes $\\{x_1, x_2, \\ldots, x_n\\}$ and corresponding probabilities $P(X = x_i) = p_i$, the Shannon entropy $H(X)$ is defined as:\n",
        "\n",
        "$$\n",
        "H(X) = - \\sum_{i=1}^{n} p_i \\log_b p_i\n",
        "$$\n",
        "\n",
        "where:\n",
        "\n",
        "* $p_i$ is the probability of outcome $x_i$,\n",
        "* the logarithm base $b$ determines the unit of entropy (commonly $b=2$ for bits, $b=e$ for nats, or $b=10$ for bans),\n",
        "* and the sum is over all possible outcomes.\n",
        "\n",
        "##Q5) What is Information Gain, and how is it used in Decision Trees\t ?\n",
        "\n",
        "Ans: Great question! Here's a clear explanation of **Information Gain** and how it’s used in **Decision Trees**:\n",
        "\n",
        "---\n",
        "\n",
        "### What is Information Gain?\n",
        "\n",
        "**Information Gain (IG)** measures the reduction in entropy (uncertainty) about the target variable after splitting the data based on a feature.\n",
        "\n",
        "In other words, it tells you how much *more certain* you become about the class labels by knowing the value of a particular feature.\n",
        "\n",
        "---\n",
        "\n",
        "### How is Information Gain Calculated?\n",
        "\n",
        "Given a dataset $D$ with entropy $H(D)$, and a feature $A$ that splits $D$ into subsets $\\{D_1, D_2, ..., D_k\\}$ based on the values of $A$, the Information Gain of the feature $A$ is:\n",
        "\n",
        "$$\n",
        "IG(D, A) = H(D) - \\sum_{j=1}^k \\frac{|D_j|}{|D|} H(D_j)\n",
        "$$\n",
        "\n",
        "* $H(D)$: entropy of the original dataset.\n",
        "* $H(D_j)$: entropy of subset $D_j$ after the split.\n",
        "* $\\frac{|D_j|}{|D|}$: proportion of instances in subset $D_j$.\n",
        "\n",
        "---\n",
        "\n",
        "### Intuition:\n",
        "\n",
        "* You start with uncertainty $H(D)$ about the target in the whole dataset.\n",
        "* Splitting on feature $A$ divides data into parts $D_j$ with their own uncertainties $H(D_j)$.\n",
        "* The weighted average entropy after the split is $\\sum_j \\frac{|D_j|}{|D|} H(D_j)$.\n",
        "* The reduction in uncertainty is the Information Gain.\n",
        "\n",
        "---\n",
        "\n",
        "### How is Information Gain Used in Decision Trees?\n",
        "\n",
        "* Decision trees recursively split the dataset by selecting the feature that provides the **highest Information Gain** at each step.\n",
        "* The idea is to choose splits that most effectively reduce uncertainty about the class labels.\n",
        "* This process continues until stopping criteria are met (e.g., all data in a node are pure, or maximum tree depth is reached).\n",
        "\n",
        "---\n",
        "\n",
        "##Q6)What is the difference between Gini Impurity and Entropy\t ?\n",
        "\n",
        "Ans: Sure! Here’s the short difference:\n",
        "\n",
        "* **Entropy** measures the **uncertainty** or **information needed** to classify a dataset and uses a logarithmic formula.\n",
        "* **Gini Impurity** measures the **probability of misclassification** in a dataset and uses a simpler formula based on squared probabilities.\n",
        "\n",
        "Both measure impurity to choose splits in decision trees, but Gini is faster to compute and often preferred in practice.\n",
        "\n",
        "##Q7) What is the mathematical explanation behind Decision Trees ?\n",
        "\n",
        "Ans:Here’s the mathematical explanation behind **Decision Trees** in a nutshell:\n",
        "\n",
        "---\n",
        "\n",
        "### 1. **Goal:**\n",
        "\n",
        "Build a model that splits the dataset into subsets to predict a target variable $Y$ from features $X = (X_1, X_2, ..., X_m)$.\n",
        "\n",
        "---\n",
        "\n",
        "### 2. **Splitting Criterion:**\n",
        "\n",
        "At each node, choose the feature and threshold that best **reduce impurity** (uncertainty) of the target variable.\n",
        "\n",
        "Mathematically, for a dataset $D$, and a candidate split $S$ dividing $D$ into subsets $D_1, D_2, ..., D_k$, we want to:\n",
        "\n",
        "$$\n",
        "\\text{Find split } S^* = \\arg\\min_S \\sum_{j=1}^k \\frac{|D_j|}{|D|} \\cdot \\text{Impurity}(D_j)\n",
        "$$\n",
        "\n",
        "Where **Impurity** can be:\n",
        "\n",
        "* **Entropy:** $H(D) = - \\sum p_i \\log_2 p_i$\n",
        "* **Gini Impurity:** $G(D) = 1 - \\sum p_i^2$\n",
        "* **Variance** (for regression trees).\n",
        "\n",
        "---\n",
        "\n",
        "### 3. **Information Gain:**\n",
        "\n",
        "The improvement (reduction) in impurity is called **Information Gain** (for classification):\n",
        "\n",
        "$$\n",
        "IG(D, S) = \\text{Impurity}(D) - \\sum_{j=1}^k \\frac{|D_j|}{|D|} \\text{Impurity}(D_j)\n",
        "$$\n",
        "\n",
        "Choose the split with the highest Information Gain.\n",
        "\n",
        "---\n",
        "\n",
        "### 4. **Recursive Partitioning:**\n",
        "\n",
        "* Start with all data at the root.\n",
        "* Find the best split $S^*$.\n",
        "* Partition data according to $S^*$.\n",
        "* Repeat recursively on each child subset until stopping criteria (e.g., pure nodes, max depth) are met.\n",
        "\n",
        "---\n",
        "\n",
        "### 5. **Prediction:**\n",
        "\n",
        "* For **classification:** assign the majority class of the leaf node.\n",
        "* For **regression:** assign the average value of the target in the leaf node.\n",
        "\n",
        "---\n",
        "\n",
        "##Q8) What is Pre-Pruning in Decision Trees ?\n",
        "\n",
        "Ans: **Pre-pruning** (also called **early stopping**) in decision trees is a technique to stop the tree from growing too deep during its construction.\n",
        "\n",
        "---\n",
        "\n",
        "### What is Pre-Pruning?\n",
        "\n",
        "* It **halts the splitting process early**, before the tree perfectly fits the training data.\n",
        "* The idea is to **prevent overfitting** by stopping splits that don’t significantly improve the model.\n",
        "\n",
        "---\n",
        "\n",
        "### How is it done?\n",
        "\n",
        "At each node, before splitting, the algorithm checks some **criteria** such as:\n",
        "\n",
        "* Minimum number of samples required to split.\n",
        "* Maximum depth of the tree.\n",
        "* Minimum information gain or impurity reduction threshold.\n",
        "* Minimum number of samples required in a leaf node.\n",
        "\n",
        "If the criteria aren’t met, the splitting stops, and the node becomes a leaf.\n",
        "\n",
        "---\n",
        "\n",
        "### Why use Pre-Pruning?\n",
        "\n",
        "* To reduce **overfitting** (too complex trees).\n",
        "* To reduce **training time**.\n",
        "* To make the model **simpler and more generalizable**.\n",
        "\n",
        "---\n",
        "\n",
        "##Q9)What is Post-Pruning in Decision Trees ?\n",
        "\n",
        "Ans:**Post-pruning** is the process of **removing unnecessary branches** from a fully grown decision tree to reduce **overfitting** and improve accuracy on unseen data. It simplifies the tree by trimming parts that don't add value, based on validation performance.\n",
        "\n",
        "\n",
        "##Q10)What is the difference between Pre-Pruning and Post-Pruning\t ?\n",
        "\n",
        "Ans:Here's a **short and clear** comparison between **Pre-Pruning** and **Post-Pruning** in decision trees:\n",
        "\n",
        "| Feature          | **Pre-Pruning**                                       | **Post-Pruning**                                 |\n",
        "| ---------------- | ----------------------------------------------------- | ------------------------------------------------ |\n",
        "| **When applied** | During tree construction                              | After the full tree is built                     |\n",
        "| **How it works** | Stops growing the tree early if conditions aren't met | Grows full tree, then trims unnecessary branches |\n",
        "| **Goal**         | Prevent overfitting by avoiding complex trees         | Reduce overfitting by simplifying the tree       |\n",
        "| **Based on**     | Thresholds like max depth, min samples, min gain      | Validation set or cross-validation               |\n",
        "| **Risk**         | Might stop too early and underfit                     | Might be more accurate, but takes longer         |\n",
        "\n",
        "✅ **Pre-pruning** = early stop\n",
        "✅ **Post-pruning** = prune after full growth\n",
        "\n",
        "##Q11) What is a Decision Tree Regressor ?\n",
        "\n",
        "Ans: A **Decision Tree Regressor** is a machine learning model that predicts **continuous numeric values** by splitting data into regions based on feature values. Each leaf of the tree gives a prediction, usually the **average** of target values in that region. It's used for **regression tasks**, like predicting prices or temperatures.\n",
        "\n",
        "##Q12)What are the advantages and disadvantages of Decision Trees\t ?\n",
        "\n",
        "Ans: Here’s a **concise list** of the **advantages** and **disadvantages** of **Decision Trees**:\n",
        "\n",
        "---\n",
        "\n",
        "### ✅ Advantages:\n",
        "\n",
        "1. **Easy to Understand and Interpret**\n",
        "\n",
        "   * Mimics human decision-making.\n",
        "\n",
        "2. **No Need for Feature Scaling**\n",
        "\n",
        "   * Works well with raw, unnormalized data.\n",
        "\n",
        "3. **Handles Both Types of Data**\n",
        "\n",
        "   * Can work with **categorical** and **numerical** features.\n",
        "\n",
        "4. **Nonlinear Relationships**\n",
        "\n",
        "   * Captures complex patterns without needing equations.\n",
        "\n",
        "5. **Requires Little Data Preparation**\n",
        "\n",
        "   * No need to standardize or normalize.\n",
        "\n",
        "6. **Feature Importance**\n",
        "\n",
        "   * Can provide insights into which features matter most.\n",
        "\n",
        "---\n",
        "\n",
        "### ❌ Disadvantages:\n",
        "\n",
        "1. **Overfitting**\n",
        "\n",
        "   * Tends to make overly complex trees that fit training data too closely.\n",
        "\n",
        "2. **Unstable**\n",
        "\n",
        "   * Small changes in data can lead to very different trees.\n",
        "\n",
        "3. **Biased Splits**\n",
        "\n",
        "   * Can favor features with more levels (e.g., categorical variables with many values).\n",
        "\n",
        "4. **Greedy Algorithm**\n",
        "\n",
        "   * Chooses the best split at each step without considering global optimum.\n",
        "\n",
        "5. **Not Good for Smooth Predictions**\n",
        "\n",
        "   * Predictions can be jumpy or piecewise constant.\n",
        "\n",
        "---\n",
        "\n",
        "##Q13) How does a Decision Tree handle missing values\t?\n",
        "\n",
        "Ans:A **Decision Tree** can handle **missing values** in several ways, depending on the implementation. Here's how it's generally done:\n",
        "\n",
        "---\n",
        "\n",
        "### 🌳 1. **During Training:**\n",
        "\n",
        "#### ✅ **Skipping Missing Values (Simple Method):**\n",
        "\n",
        "* Rows with missing values can be **excluded** from a particular split decision.\n",
        "* But this may lead to **data loss**.\n",
        "\n",
        "#### ✅ **Surrogate Splits (Advanced Method):**\n",
        "\n",
        "* The tree finds **alternative features** (surrogate splits) that closely mimic the primary split.\n",
        "* If the main feature value is missing, the surrogate is used instead.\n",
        "\n",
        "> Example: If \"Age\" is missing, and \"Income\" usually splits similarly, the tree uses \"Income\" as a backup.\n",
        "\n",
        "---\n",
        "\n",
        "### 🌿 2. **During Prediction:**\n",
        "\n",
        "#### ✅ **Follow the Most Frequent Path:**\n",
        "\n",
        "* If a value is missing, follow the path that most training samples took at that split.\n",
        "\n",
        "#### ✅ **Split Sample Proportionally:**\n",
        "\n",
        "* The sample is **fractionally sent down** all branches based on the training data distribution.\n",
        "\n",
        "---\n",
        "\n",
        "### 🛠 Common Library Support:\n",
        "\n",
        "* **Scikit-learn:** Doesn't handle missing values directly in `DecisionTreeClassifier` or `DecisionTreeRegressor` — you need to impute missing values before training.\n",
        "* **XGBoost, LightGBM, CART:** Handle missing values **internally** using advanced strategies like surrogate splits.\n",
        "\n",
        "---\n",
        "\n",
        "##Q14) How does a Decision Tree handle categorical features ?\n",
        "\n",
        "Ans:### 🔍 **How Does a Decision Tree Handle Categorical Features?**\n",
        "\n",
        "A **Decision Tree** handles **categorical features** by **splitting the data based on category values**.\n",
        "\n",
        "---\n",
        "\n",
        "### ✅ **Key Points:**\n",
        "\n",
        "* It checks **which category or group of categories** leads to the best split (i.e., highest information gain or lowest impurity).\n",
        "* The tree may split like:\n",
        "  👉 \"Is Color in {Red, Green}?\" vs. \"Color = Blue\"\n",
        "\n",
        "---\n",
        "\n",
        "### 🛠 **Implementation Details:**\n",
        "\n",
        "* **Libraries like scikit-learn**:\n",
        "  Require **manual encoding** (e.g., one-hot or label encoding) since they treat all features as numeric.\n",
        "\n",
        "* **Libraries like CatBoost, LightGBM, XGBoost**:\n",
        "  Can handle **categorical features natively**—no need for encoding.\n",
        "\n",
        "---\n",
        "\n",
        "##Q15) What are some real-world applications of Decision Trees?\n",
        "\n",
        "Ans:### 🌍 Real-World Applications of Decision Trees (Short Answer):\n",
        "\n",
        "1. **Healthcare** – Diagnosing diseases based on symptoms and test results.\n",
        "2. **Finance** – Credit scoring and loan approval decisions.\n",
        "3. **Marketing** – Customer segmentation and targeting strategies.\n",
        "4. **Retail** – Predicting product recommendations or purchase likelihood.\n",
        "5. **Fraud Detection** – Identifying suspicious transactions.\n",
        "6. **HR** – Predicting employee attrition or performance.\n",
        "7. **Manufacturing** – Quality control and fault diagnosis.\n",
        "\n",
        "##PRATICAL QUESTION\n",
        "\n",
        "##Q16) Write a Python program to train a Decision Tree Classifier on the Iris dataset and print the model accuracy ?\n",
        "\n",
        "Ans:\n",
        "\n",
        "\n",
        "\n",
        "\n",
        "\n"
      ],
      "metadata": {
        "id": "NAT21LNRDKU_"
      }
    },
    {
      "cell_type": "code",
      "source": [
        "from sklearn.datasets import load_iris\n",
        "from sklearn.model_selection import train_test_split\n",
        "from sklearn.tree import DecisionTreeClassifier\n",
        "from sklearn.metrics import accuracy_score\n",
        "\n",
        "# Load the Iris dataset\n",
        "iris = load_iris()\n",
        "X = iris.data\n",
        "y = iris.target\n",
        "\n",
        "# Split the data into training and testing sets (80% train, 20% test)\n",
        "X_train, X_test, y_train, y_test = train_test_split(X, y, test_size=0.2, random_state=42)\n",
        "\n",
        "# Create the Decision Tree Classifier\n",
        "clf = DecisionTreeClassifier(random_state=42)\n",
        "\n",
        "# Train the model\n",
        "clf.fit(X_train, y_train)\n",
        "\n",
        "# Predict on the test set\n",
        "y_pred = clf.predict(X_test)\n",
        "\n",
        "# Calculate accuracy\n",
        "accuracy = accuracy_score(y_test, y_pred)\n",
        "\n",
        "print(f\"Model Accuracy: {accuracy:.2f}\")\n"
      ],
      "metadata": {
        "colab": {
          "base_uri": "https://localhost:8080/"
        },
        "id": "Pn6g7kcLiTio",
        "outputId": "c4194ba9-51d7-4157-9c79-4fa510e6519e"
      },
      "execution_count": 1,
      "outputs": [
        {
          "output_type": "stream",
          "name": "stdout",
          "text": [
            "Model Accuracy: 1.00\n"
          ]
        }
      ]
    },
    {
      "cell_type": "markdown",
      "source": [
        "##Q17) Write a Python program to train a Decision Tree Classifier using Gini Impurity as the criterion and print the feature importances ?\n",
        "\n",
        "Ans:"
      ],
      "metadata": {
        "id": "ZON7FuJuiaBh"
      }
    },
    {
      "cell_type": "code",
      "source": [
        "from sklearn.datasets import load_iris\n",
        "from sklearn.tree import DecisionTreeClassifier\n",
        "\n",
        "# Load Iris dataset\n",
        "iris = load_iris()\n",
        "X = iris.data\n",
        "y = iris.target\n",
        "\n",
        "# Create Decision Tree Classifier with Gini impurity\n",
        "clf = DecisionTreeClassifier(criterion='gini', random_state=42)\n",
        "\n",
        "# Train the model\n",
        "clf.fit(X, y)\n",
        "\n",
        "# Print feature importances\n",
        "for feature_name, importance in zip(iris.feature_names, clf.feature_importances_):\n",
        "    print(f\"{feature_name}: {importance:.4f}\")\n"
      ],
      "metadata": {
        "colab": {
          "base_uri": "https://localhost:8080/"
        },
        "id": "LmcOfA9Ai6I0",
        "outputId": "eabe6974-c766-4d69-91ba-c464febb9d05"
      },
      "execution_count": 2,
      "outputs": [
        {
          "output_type": "stream",
          "name": "stdout",
          "text": [
            "sepal length (cm): 0.0133\n",
            "sepal width (cm): 0.0000\n",
            "petal length (cm): 0.5641\n",
            "petal width (cm): 0.4226\n"
          ]
        }
      ]
    },
    {
      "cell_type": "markdown",
      "source": [
        "##Q18) Write a Python program to train a Decision Tree Classifier using Entropy as the splitting criterion and print the  model accuracy ?\n",
        "\n",
        "Ans:"
      ],
      "metadata": {
        "id": "dW7UHNP2i8pQ"
      }
    },
    {
      "cell_type": "code",
      "source": [
        "from sklearn.datasets import load_iris\n",
        "from sklearn.model_selection import train_test_split\n",
        "from sklearn.tree import DecisionTreeClassifier\n",
        "from sklearn.metrics import accuracy_score\n",
        "\n",
        "# Load the Iris dataset\n",
        "iris = load_iris()\n",
        "X = iris.data\n",
        "y = iris.target\n",
        "\n",
        "# Split dataset into training and testing sets (80% train, 20% test)\n",
        "X_train, X_test, y_train, y_test = train_test_split(X, y, test_size=0.2, random_state=42)\n",
        "\n",
        "# Initialize Decision Tree Classifier with entropy criterion\n",
        "clf = DecisionTreeClassifier(criterion='entropy', random_state=42)\n",
        "\n",
        "# Train the classifier\n",
        "clf.fit(X_train, y_train)\n",
        "\n",
        "# Predict the test set\n",
        "y_pred = clf.predict(X_test)\n",
        "\n",
        "# Calculate accuracy\n",
        "accuracy = accuracy_score(y_test, y_pred)\n",
        "\n",
        "print(f\"Model Accuracy using Entropy: {accuracy:.2f}\")\n"
      ],
      "metadata": {
        "colab": {
          "base_uri": "https://localhost:8080/"
        },
        "id": "PG5E3dDAjME9",
        "outputId": "a65e647b-0a2e-4a66-b828-892a09f8a208"
      },
      "execution_count": 3,
      "outputs": [
        {
          "output_type": "stream",
          "name": "stdout",
          "text": [
            "Model Accuracy using Entropy: 1.00\n"
          ]
        }
      ]
    },
    {
      "cell_type": "markdown",
      "source": [
        "##Q19) Write a Python program to train a Decision Tree Regressor on a housing dataset and evaluate using Mean  Squared Error (MSE) ?\n",
        "\n",
        "Ans:"
      ],
      "metadata": {
        "id": "zZcl80W1jOpy"
      }
    },
    {
      "cell_type": "code",
      "source": [
        "from sklearn.datasets import fetch_california_housing\n",
        "from sklearn.model_selection import train_test_split\n",
        "from sklearn.tree import DecisionTreeRegressor\n",
        "from sklearn.metrics import mean_squared_error\n",
        "\n",
        "# Load California Housing dataset\n",
        "housing = fetch_california_housing()\n",
        "X = housing.data\n",
        "y = housing.target\n",
        "\n",
        "# Split data into training and testing sets (80% train, 20% test)\n",
        "X_train, X_test, y_train, y_test = train_test_split(X, y, test_size=0.2, random_state=42)\n",
        "\n",
        "# Initialize Decision Tree Regressor\n",
        "regressor = DecisionTreeRegressor(random_state=42)\n",
        "\n",
        "# Train the model\n",
        "regressor.fit(X_train, y_train)\n",
        "\n",
        "# Predict on the test set\n",
        "y_pred = regressor.predict(X_test)\n",
        "\n",
        "# Calculate Mean Squared Error (MSE)\n",
        "mse = mean_squared_error(y_test, y_pred)\n",
        "\n",
        "print(f\"Mean Squared Error (MSE): {mse:.4f}\")\n"
      ],
      "metadata": {
        "colab": {
          "base_uri": "https://localhost:8080/"
        },
        "id": "TCKbkK8Bj0dE",
        "outputId": "a574ca21-9b2e-41bb-ad32-f2ae50edbc48"
      },
      "execution_count": 5,
      "outputs": [
        {
          "output_type": "stream",
          "name": "stdout",
          "text": [
            "Mean Squared Error (MSE): 0.4952\n"
          ]
        }
      ]
    },
    {
      "cell_type": "markdown",
      "source": [
        "##Q20)Write a Python program to train a Decision Tree Classifier and visualize the tree using graphviz ?\n",
        "\n",
        "Ans:"
      ],
      "metadata": {
        "id": "SOtKiea2j78y"
      }
    },
    {
      "cell_type": "code",
      "source": [
        "from sklearn.datasets import load_iris\n",
        "from sklearn.tree import DecisionTreeClassifier, export_graphviz\n",
        "from sklearn.model_selection import train_test_split\n",
        "import graphviz\n",
        "\n",
        "# Load the Iris dataset\n",
        "iris = load_iris()\n",
        "X = iris.data\n",
        "y = iris.target\n",
        "\n",
        "# Train-test split\n",
        "X_train, X_test, y_train, y_test = train_test_split(X, y, test_size=0.2, random_state=42)\n",
        "\n",
        "# Create Decision Tree Classifier\n",
        "clf = DecisionTreeClassifier(criterion='gini', random_state=42)\n",
        "clf.fit(X_train, y_train)\n",
        "\n",
        "# Export the tree to DOT format\n",
        "dot_data = export_graphviz(clf,\n",
        "                           out_file=None,\n",
        "                           feature_names=iris.feature_names,\n",
        "                           class_names=iris.target_names,\n",
        "                           filled=True,\n",
        "                           rounded=True,\n",
        "                           special_characters=True)\n",
        "\n",
        "# Visualize using graphviz\n",
        "graph = graphviz.Source(dot_data)\n",
        "graph.render(\"iris_tree\", format=\"png\", cleanup=False)  # Saves as 'iris_tree.png'\n",
        "graph.view()\n"
      ],
      "metadata": {
        "colab": {
          "base_uri": "https://localhost:8080/",
          "height": 35
        },
        "id": "FzUv5sFLr9dh",
        "outputId": "b98b97ec-a4b4-4634-9185-75a2ed1a38ef"
      },
      "execution_count": 6,
      "outputs": [
        {
          "output_type": "execute_result",
          "data": {
            "text/plain": [
              "'iris_tree.pdf'"
            ],
            "application/vnd.google.colaboratory.intrinsic+json": {
              "type": "string"
            }
          },
          "metadata": {},
          "execution_count": 6
        }
      ]
    },
    {
      "cell_type": "markdown",
      "source": [
        "##Q21) Write a Python program to train a Decision Tree Classifier with a maximum depth of 3 and compare its accuracy with a fully grown tree ?\n",
        "\n",
        "Ans:"
      ],
      "metadata": {
        "id": "0sX1KTgvsYKD"
      }
    },
    {
      "cell_type": "code",
      "source": [
        "from sklearn.datasets import load_iris\n",
        "from sklearn.model_selection import train_test_split\n",
        "from sklearn.tree import DecisionTreeClassifier\n",
        "from sklearn.metrics import accuracy_score\n",
        "\n",
        "# Load the Iris dataset\n",
        "iris = load_iris()\n",
        "X = iris.data\n",
        "y = iris.target\n",
        "\n",
        "# Split into training and testing sets\n",
        "X_train, X_test, y_train, y_test = train_test_split(X, y, test_size=0.2, random_state=42)\n",
        "\n",
        "# Decision Tree with max depth = 3\n",
        "tree_limited = DecisionTreeClassifier(max_depth=3, random_state=42)\n",
        "tree_limited.fit(X_train, y_train)\n",
        "y_pred_limited = tree_limited.predict(X_test)\n",
        "accuracy_limited = accuracy_score(y_test, y_pred_limited)\n",
        "\n",
        "# Fully grown Decision Tree\n",
        "tree_full = DecisionTreeClassifier(random_state=42)\n",
        "tree_full.fit(X_train, y_train)\n",
        "y_pred_full = tree_full.predict(X_test)\n",
        "accuracy_full = accuracy_score(y_test, y_pred_full)\n",
        "\n",
        "# Print the results\n",
        "print(f\"Accuracy with max_depth=3: {accuracy_limited:.2f}\")\n",
        "print(f\"Accuracy with fully grown tree: {accuracy_full:.2f}\")\n"
      ],
      "metadata": {
        "colab": {
          "base_uri": "https://localhost:8080/"
        },
        "id": "BQ8OK9flskY4",
        "outputId": "e100f28d-d6b5-4150-ff7c-41c4f2d2b17b"
      },
      "execution_count": 7,
      "outputs": [
        {
          "output_type": "stream",
          "name": "stdout",
          "text": [
            "Accuracy with max_depth=3: 1.00\n",
            "Accuracy with fully grown tree: 1.00\n"
          ]
        }
      ]
    },
    {
      "cell_type": "markdown",
      "source": [
        "##Q22) Write a Python program to train a Decision Tree Classifier using min_samples_split=5 and compare its accuracy with a default tree ?\n",
        "\n",
        "Ans:"
      ],
      "metadata": {
        "id": "cOF358U5s0C6"
      }
    },
    {
      "cell_type": "code",
      "source": [
        "from sklearn.datasets import load_iris\n",
        "from sklearn.model_selection import train_test_split\n",
        "from sklearn.tree import DecisionTreeClassifier\n",
        "from sklearn.metrics import accuracy_score\n",
        "\n",
        "# Load the Iris dataset\n",
        "iris = load_iris()\n",
        "X = iris.data\n",
        "y = iris.target\n",
        "\n",
        "# Split into training and testing sets (80% train, 20% test)\n",
        "X_train, X_test, y_train, y_test = train_test_split(X, y, test_size=0.2, random_state=42)\n",
        "\n",
        "# Train Decision Tree with min_samples_split=5\n",
        "tree_custom = DecisionTreeClassifier(min_samples_split=5, random_state=42)\n",
        "tree_custom.fit(X_train, y_train)\n",
        "y_pred_custom = tree_custom.predict(X_test)\n",
        "accuracy_custom = accuracy_score(y_test, y_pred_custom)\n",
        "\n",
        "# Train Default Decision Tree\n",
        "tree_default = DecisionTreeClassifier(random_state=42)\n",
        "tree_default.fit(X_train, y_train)\n",
        "y_pred_default = tree_default.predict(X_test)\n",
        "accuracy_default = accuracy_score(y_test, y_pred_default)\n",
        "\n",
        "# Print accuracies\n",
        "print(f\"Accuracy with min_samples_split=5: {accuracy_custom:.2f}\")\n",
        "print(f\"Accuracy with default tree: {accuracy_default:.2f}\")\n"
      ],
      "metadata": {
        "colab": {
          "base_uri": "https://localhost:8080/"
        },
        "id": "xCumH68otSNl",
        "outputId": "21009a0d-5ded-4bbe-d29b-a306e449da0d"
      },
      "execution_count": 8,
      "outputs": [
        {
          "output_type": "stream",
          "name": "stdout",
          "text": [
            "Accuracy with min_samples_split=5: 1.00\n",
            "Accuracy with default tree: 1.00\n"
          ]
        }
      ]
    },
    {
      "cell_type": "markdown",
      "source": [
        "##Q23) Write a Python program to apply feature scaling before training a Decision Tree Classifier and compare its accuracy with unscaled data ?\n",
        "\n",
        "Ans:"
      ],
      "metadata": {
        "id": "80_arhEJtZdY"
      }
    },
    {
      "cell_type": "code",
      "source": [
        "from sklearn.datasets import load_iris\n",
        "from sklearn.model_selection import train_test_split\n",
        "from sklearn.preprocessing import StandardScaler\n",
        "from sklearn.tree import DecisionTreeClassifier\n",
        "from sklearn.metrics import accuracy_score\n",
        "\n",
        "# Load Iris dataset\n",
        "iris = load_iris()\n",
        "X, y = iris.data, iris.target\n",
        "\n",
        "# Split into training and test sets\n",
        "X_train_raw, X_test_raw, y_train, y_test = train_test_split(X, y, test_size=0.2, random_state=42)\n",
        "\n",
        "# ----------- Model WITHOUT scaling -----------\n",
        "clf_raw = DecisionTreeClassifier(random_state=42)\n",
        "clf_raw.fit(X_train_raw, y_train)\n",
        "y_pred_raw = clf_raw.predict(X_test_raw)\n",
        "accuracy_raw = accuracy_score(y_test, y_pred_raw)\n",
        "\n",
        "# ----------- Model WITH feature scaling -----------\n",
        "scaler = StandardScaler()\n",
        "X_train_scaled = scaler.fit_transform(X_train_raw)\n",
        "X_test_scaled = scaler.transform(X_test_raw)\n",
        "\n",
        "clf_scaled = DecisionTreeClassifier(random_state=42)\n",
        "clf_scaled.fit(X_train_scaled, y_train)\n",
        "y_pred_scaled = clf_scaled.predict(X_test_scaled)\n",
        "accuracy_scaled = accuracy_score(y_test, y_pred_scaled)\n",
        "\n",
        "# ----------- Print results -----------\n",
        "print(f\"Accuracy without scaling: {accuracy_raw:.2f}\")\n",
        "print(f\"Accuracy with scaling:    {accuracy_scaled:.2f}\")\n"
      ],
      "metadata": {
        "colab": {
          "base_uri": "https://localhost:8080/"
        },
        "id": "JwEVGWP1tuF6",
        "outputId": "f662761d-1a1d-4bf5-a14c-9967da414142"
      },
      "execution_count": 9,
      "outputs": [
        {
          "output_type": "stream",
          "name": "stdout",
          "text": [
            "Accuracy without scaling: 1.00\n",
            "Accuracy with scaling:    1.00\n"
          ]
        }
      ]
    },
    {
      "cell_type": "markdown",
      "source": [
        "##Q24)Write a Python program to train a Decision Tree Classifier using One-vs-Rest (OvR) strategy for multiclass  classification ?\n",
        "\n",
        "Ans:"
      ],
      "metadata": {
        "id": "n1exa0Jutw8k"
      }
    },
    {
      "cell_type": "code",
      "source": [
        "from sklearn.datasets import load_iris\n",
        "from sklearn.model_selection import train_test_split\n",
        "from sklearn.tree import DecisionTreeClassifier\n",
        "from sklearn.multiclass import OneVsRestClassifier\n",
        "from sklearn.metrics import accuracy_score\n",
        "\n",
        "# Load Iris dataset\n",
        "iris = load_iris()\n",
        "X = iris.data\n",
        "y = iris.target\n",
        "\n",
        "# Train-test split\n",
        "X_train, X_test, y_train, y_test = train_test_split(X, y, test_size=0.2, random_state=42)\n",
        "\n",
        "# Wrap Decision Tree Classifier in One-vs-Rest strategy\n",
        "ovr_classifier = OneVsRestClassifier(DecisionTreeClassifier(random_state=42))\n",
        "\n",
        "# Train the model\n",
        "ovr_classifier.fit(X_train, y_train)\n",
        "\n",
        "# Predict on the test set\n",
        "y_pred = ovr_classifier.predict(X_test)\n",
        "\n",
        "# Calculate and print accuracy\n",
        "accuracy = accuracy_score(y_test, y_pred)\n",
        "print(f\"Accuracy using One-vs-Rest Decision Tree: {accuracy:.2f}\")\n"
      ],
      "metadata": {
        "colab": {
          "base_uri": "https://localhost:8080/"
        },
        "id": "GgYJDAQAuKkr",
        "outputId": "463787b4-c9a8-4293-a7f8-edd5f78dd7dd"
      },
      "execution_count": 10,
      "outputs": [
        {
          "output_type": "stream",
          "name": "stdout",
          "text": [
            "Accuracy using One-vs-Rest Decision Tree: 1.00\n"
          ]
        }
      ]
    },
    {
      "cell_type": "markdown",
      "source": [
        "##Q25) Write a Python program to train a Decision Tree Classifier and display the feature importance scores ?\n"
      ],
      "metadata": {
        "id": "OwXVrYyWuVg7"
      }
    },
    {
      "cell_type": "code",
      "source": [
        "from sklearn.datasets import load_iris\n",
        "from sklearn.tree import DecisionTreeClassifier\n",
        "from sklearn.model_selection import train_test_split\n",
        "\n",
        "# Load the Iris dataset\n",
        "iris = load_iris()\n",
        "X = iris.data\n",
        "y = iris.target\n",
        "\n",
        "# Split the data into train and test sets\n",
        "X_train, X_test, y_train, y_test = train_test_split(X, y, test_size=0.2, random_state=42)\n",
        "\n",
        "# Train a Decision Tree Classifier\n",
        "clf = DecisionTreeClassifier(random_state=42)\n",
        "clf.fit(X_train, y_train)\n",
        "\n",
        "# Get feature importance scores\n",
        "importances = clf.feature_importances_\n",
        "\n",
        "# Display feature importance scores\n",
        "print(\"Feature Importances:\")\n",
        "for feature, importance in zip(iris.feature_names, importances):\n",
        "    print(f\"{feature}: {importance:.4f}\")\n"
      ],
      "metadata": {
        "colab": {
          "base_uri": "https://localhost:8080/"
        },
        "id": "yAX7NDXvuhZA",
        "outputId": "e4d80854-29c0-4772-ba9f-4ee8662f6484"
      },
      "execution_count": 11,
      "outputs": [
        {
          "output_type": "stream",
          "name": "stdout",
          "text": [
            "Feature Importances:\n",
            "sepal length (cm): 0.0000\n",
            "sepal width (cm): 0.0167\n",
            "petal length (cm): 0.9061\n",
            "petal width (cm): 0.0772\n"
          ]
        }
      ]
    },
    {
      "cell_type": "markdown",
      "source": [
        "##Q26) Write a Python program to train a Decision Tree Regressor with max_depth=5 and compare its performance with an unrestricted tree ?\n",
        "\n",
        "Ans:"
      ],
      "metadata": {
        "id": "aETISZqPurtl"
      }
    },
    {
      "cell_type": "code",
      "source": [
        "from sklearn.datasets import fetch_california_housing\n",
        "from sklearn.model_selection import train_test_split\n",
        "from sklearn.tree import DecisionTreeRegressor\n",
        "from sklearn.metrics import mean_squared_error\n",
        "\n",
        "# Load California Housing dataset\n",
        "data = fetch_california_housing()\n",
        "X, y = data.data, data.target\n",
        "\n",
        "# Split data into training and testing sets\n",
        "X_train, X_test, y_train, y_test = train_test_split(X, y, test_size=0.2, random_state=42)\n",
        "\n",
        "# Regressor with max_depth=5\n",
        "reg_limited = DecisionTreeRegressor(max_depth=5, random_state=42)\n",
        "reg_limited.fit(X_train, y_train)\n",
        "y_pred_limited = reg_limited.predict(X_test)\n",
        "mse_limited = mean_squared_error(y_test, y_pred_limited)\n",
        "\n",
        "# Regressor with no depth restriction (fully grown)\n",
        "reg_full = DecisionTreeRegressor(random_state=42)\n",
        "reg_full.fit(X_train, y_train)\n",
        "y_pred_full = reg_full.predict(X_test)\n",
        "mse_full = mean_squared_error(y_test, y_pred_full)\n",
        "\n",
        "# Print the results\n",
        "print(f\"Mean Squared Error (max_depth=5): {mse_limited:.4f}\")\n",
        "print(f\"Mean Squared Error (fully grown tree): {mse_full:.4f}\")\n"
      ],
      "metadata": {
        "colab": {
          "base_uri": "https://localhost:8080/"
        },
        "id": "HNC_Srh_vVix",
        "outputId": "7a799b81-f069-4a44-83f8-6be0b7e8766a"
      },
      "execution_count": 12,
      "outputs": [
        {
          "output_type": "stream",
          "name": "stdout",
          "text": [
            "Mean Squared Error (max_depth=5): 0.5245\n",
            "Mean Squared Error (fully grown tree): 0.4952\n"
          ]
        }
      ]
    },
    {
      "cell_type": "markdown",
      "source": [
        "##Q27) Write a Python program to train a Decision Tree Classifier, apply Cost Complexity Pruning (CCP), and visualize its effect on accuracy ?\n",
        "\n",
        "Ans:"
      ],
      "metadata": {
        "id": "GRzQRlJSvjjd"
      }
    },
    {
      "cell_type": "code",
      "source": [
        "import numpy as np\n",
        "import matplotlib.pyplot as plt\n",
        "from sklearn.datasets import load_iris\n",
        "from sklearn.model_selection import train_test_split\n",
        "from sklearn.tree import DecisionTreeClassifier\n",
        "from sklearn.metrics import accuracy_score\n",
        "\n",
        "# Load the Iris dataset\n",
        "iris = load_iris()\n",
        "X, y = iris.data, iris.target\n",
        "\n",
        "# Train-test split\n",
        "X_train, X_test, y_train, y_test = train_test_split(X, y, test_size=0.2, random_state=42)\n",
        "\n",
        "# Train a base tree to get cost complexity pruning path\n",
        "clf = DecisionTreeClassifier(random_state=42)\n",
        "path = clf.cost_complexity_pruning_path(X_train, y_train)\n",
        "ccp_alphas = path.ccp_alphas\n",
        "\n",
        "# Train trees with different ccp_alpha values\n",
        "clfs = []\n",
        "for alpha in ccp_alphas:\n",
        "    clf = DecisionTreeClassifier(random_state=42, ccp_alpha=alpha)\n",
        "    clf.fit(X_train, y_train)\n",
        "    clfs.append(clf)\n",
        "\n",
        "# Remove the last tree (usually underfit with 1 node)\n",
        "clfs = clfs[:-1]\n",
        "ccp_alphas = ccp_alphas[:-1]\n",
        "\n",
        "# Compute accuracy for each tree\n",
        "train_scores = [accuracy_score(y_train, clf.predict(X_train)) for clf in clfs]\n",
        "test_scores = [accuracy_score(y_test, clf.predict(X_test)) for clf in clfs]\n",
        "\n",
        "# Plot the effect of pruning on accuracy\n",
        "plt.figure(figsize=(8, 5))\n",
        "plt.plot(ccp_alphas, train_scores, marker='o', label='Train Accuracy', drawstyle=\"steps-post\")\n",
        "plt.plot(ccp_alphas, test_scores, marker='o', label='Test Accuracy', drawstyle=\"steps-post\")\n",
        "plt.xlabel(\"ccp_alpha (Complexity Penalty)\")\n",
        "plt.ylabel(\"Accuracy\")\n",
        "plt.title(\"Effect of Cost Complexity Pruning on Accuracy\")\n",
        "plt.legend()\n",
        "plt.grid(True)\n",
        "plt.tight_layout()\n",
        "plt.show()\n"
      ],
      "metadata": {
        "colab": {
          "base_uri": "https://localhost:8080/",
          "height": 507
        },
        "id": "VaferSg9v1o9",
        "outputId": "b5f0f083-cab9-490e-f372-6bdc1cdc2885"
      },
      "execution_count": 13,
      "outputs": [
        {
          "output_type": "display_data",
          "data": {
            "text/plain": [
              "<Figure size 800x500 with 1 Axes>"
            ],
            "image/png": "[encoded data removed]"
          },
          "metadata": {}
        }
      ]
    },
    {
      "cell_type": "markdown",
      "source": [
        "##Q28) Write a Python program to train a Decision Tree Classifier and evaluate its performance using Precision, Recall, and F1-Score ?\n",
        "\n",
        "Ans:"
      ],
      "metadata": {
        "id": "fsPDgHA-v43Z"
      }
    },
    {
      "cell_type": "code",
      "source": [
        "from sklearn.datasets import load_iris\n",
        "from sklearn.model_selection import train_test_split\n",
        "from sklearn.tree import DecisionTreeClassifier\n",
        "from sklearn.metrics import classification_report\n",
        "\n",
        "# Load the Iris dataset\n",
        "iris = load_iris()\n",
        "X = iris.data\n",
        "y = iris.target\n",
        "\n",
        "# Split the dataset (80% train, 20% test)\n",
        "X_train, X_test, y_train, y_test = train_test_split(X, y, test_size=0.2, random_state=42)\n",
        "\n",
        "# Train a Decision Tree Classifier\n",
        "clf = DecisionTreeClassifier(random_state=42)\n",
        "clf.fit(X_train, y_train)\n",
        "\n",
        "# Predict on the test set\n",
        "y_pred = clf.predict(X_test)\n",
        "\n",
        "# Evaluate using precision, recall, and F1-score\n",
        "print(\"Classification Report:\")\n",
        "print(classification_report(y_test, y_pred, target_names=iris.target_names))\n"
      ],
      "metadata": {
        "colab": {
          "base_uri": "https://localhost:8080/"
        },
        "id": "ZFaLFBadwEI0",
        "outputId": "eecea46e-f861-4fda-9968-69c77bff5098"
      },
      "execution_count": 14,
      "outputs": [
        {
          "output_type": "stream",
          "name": "stdout",
          "text": [
            "Classification Report:\n",
            "              precision    recall  f1-score   support\n",
            "\n",
            "      setosa       1.00      1.00      1.00        10\n",
            "  versicolor       1.00      1.00      1.00         9\n",
            "   virginica       1.00      1.00      1.00        11\n",
            "\n",
            "    accuracy                           1.00        30\n",
            "   macro avg       1.00      1.00      1.00        30\n",
            "weighted avg       1.00      1.00      1.00        30\n",
            "\n"
          ]
        }
      ]
    },
    {
      "cell_type": "markdown",
      "source": [
        "##Q29)Write a Python program to train a Decision Tree Classifier and visualize the confusion matrix using seaborn ?\n",
        "\n",
        "Ans:"
      ],
      "metadata": {
        "id": "71MTjqfRwN4g"
      }
    },
    {
      "cell_type": "code",
      "source": [
        "import seaborn as sns\n",
        "import matplotlib.pyplot as plt\n",
        "from sklearn.datasets import load_iris\n",
        "from sklearn.model_selection import train_test_split\n",
        "from sklearn.tree import DecisionTreeClassifier\n",
        "from sklearn.metrics import confusion_matrix\n",
        "\n",
        "# Load Iris dataset\n",
        "iris = load_iris()\n",
        "X = iris.data\n",
        "y = iris.target\n",
        "\n",
        "# Train-test split\n",
        "X_train, X_test, y_train, y_test = train_test_split(X, y, test_size=0.2, random_state=42)\n",
        "\n",
        "# Train Decision Tree Classifier\n",
        "clf = DecisionTreeClassifier(random_state=42)\n",
        "clf.fit(X_train, y_train)\n",
        "\n",
        "# Predict on test set\n",
        "y_pred = clf.predict(X_test)\n",
        "\n",
        "# Compute confusion matrix\n",
        "cm = confusion_matrix(y_test, y_pred)\n",
        "\n",
        "# Plot confusion matrix using seaborn heatmap\n",
        "plt.figure(figsize=(6,5))\n",
        "sns.heatmap(cm, annot=True, fmt='d', cmap='Blues',\n",
        "            xticklabels=iris.target_names,\n",
        "            yticklabels=iris.target_names)\n",
        "plt.xlabel('Predicted Label')\n",
        "plt.ylabel('True Label')\n",
        "plt.title('Confusion Matrix')\n",
        "plt.show()\n"
      ],
      "metadata": {
        "colab": {
          "base_uri": "https://localhost:8080/",
          "height": 487
        },
        "id": "oB0t-VQlwYzd",
        "outputId": "6a582564-39bc-4250-c849-bc312d28fe73"
      },
      "execution_count": 15,
      "outputs": [
        {
          "output_type": "display_data",
          "data": {
            "text/plain": [
              "<Figure size 600x500 with 2 Axes>"
            ],
            "image/png": "[encoded data removed]"
          },
          "metadata": {}
        }
      ]
    },
    {
      "cell_type": "markdown",
      "source": [
        "##Q30) Write a Python program to train a Decision Tree Classifier and use GridSearchCV to find the optimal values  for max_depth and min_samples_split ?\n",
        "\n",
        "Ans:"
      ],
      "metadata": {
        "id": "g3zscGQUweom"
      }
    },
    {
      "cell_type": "code",
      "source": [
        "from sklearn.datasets import load_iris\n",
        "from sklearn.model_selection import train_test_split, GridSearchCV\n",
        "from sklearn.tree import DecisionTreeClassifier\n",
        "\n",
        "# Load the Iris dataset\n",
        "iris = load_iris()\n",
        "X = iris.data\n",
        "y = iris.target\n",
        "\n",
        "# Split dataset into train and test sets\n",
        "X_train, X_test, y_train, y_test = train_test_split(X, y, test_size=0.2, random_state=42)\n",
        "\n",
        "# Define the Decision Tree Classifier\n",
        "dt = DecisionTreeClassifier(random_state=42)\n",
        "\n",
        "# Define parameter grid for max_depth and min_samples_split\n",
        "param_grid = {\n",
        "    'max_depth': [2, 3, 4, 5, None],\n",
        "    'min_samples_split': [2, 5, 10]\n",
        "}\n",
        "\n",
        "# Setup GridSearchCV\n",
        "grid_search = GridSearchCV(estimator=dt, param_grid=param_grid, cv=5, scoring='accuracy')\n",
        "\n",
        "# Fit GridSearchCV\n",
        "grid_search.fit(X_train, y_train)\n",
        "\n",
        "# Print best parameters and best score\n",
        "print(\"Best parameters:\", grid_search.best_params_)\n",
        "print(f\"Best cross-validation accuracy: {grid_search.best_score_:.4f}\")\n",
        "\n",
        "# Evaluate best estimator on test set\n",
        "best_model = grid_search.best_estimator_\n",
        "test_accuracy = best_model.score(X_test, y_test)\n",
        "print(f\"Test set accuracy with best parameters: {test_accuracy:.4f}\")\n"
      ],
      "metadata": {
        "colab": {
          "base_uri": "https://localhost:8080/"
        },
        "id": "vGEUVSWBwrRy",
        "outputId": "fca9ce36-2f19-4f35-cb06-1966b888db04"
      },
      "execution_count": 16,
      "outputs": [
        {
          "output_type": "stream",
          "name": "stdout",
          "text": [
            "Best parameters: {'max_depth': 4, 'min_samples_split': 2}\n",
            "Best cross-validation accuracy: 0.9417\n",
            "Test set accuracy with best parameters: 1.0000\n"
          ]
        }
      ]
    }
  ]
}